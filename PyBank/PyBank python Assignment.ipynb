{
 "cells": [
  {
   "cell_type": "code",
   "execution_count": 182,
   "metadata": {},
   "outputs": [],
   "source": [
    "import pandas as pd"
   ]
  },
  {
   "cell_type": "code",
   "execution_count": 183,
   "metadata": {},
   "outputs": [
    {
     "data": {
      "text/html": [
       "<div>\n",
       "<style scoped>\n",
       "    .dataframe tbody tr th:only-of-type {\n",
       "        vertical-align: middle;\n",
       "    }\n",
       "\n",
       "    .dataframe tbody tr th {\n",
       "        vertical-align: top;\n",
       "    }\n",
       "\n",
       "    .dataframe thead th {\n",
       "        text-align: right;\n",
       "    }\n",
       "</style>\n",
       "<table border=\"1\" class=\"dataframe\">\n",
       "  <thead>\n",
       "    <tr style=\"text-align: right;\">\n",
       "      <th></th>\n",
       "      <th>Date</th>\n",
       "      <th>Profit/Losses</th>\n",
       "    </tr>\n",
       "  </thead>\n",
       "  <tbody>\n",
       "    <tr>\n",
       "      <th>0</th>\n",
       "      <td>Jan-10</td>\n",
       "      <td>1088983</td>\n",
       "    </tr>\n",
       "    <tr>\n",
       "      <th>1</th>\n",
       "      <td>Feb-10</td>\n",
       "      <td>-354534</td>\n",
       "    </tr>\n",
       "    <tr>\n",
       "      <th>2</th>\n",
       "      <td>Mar-10</td>\n",
       "      <td>276622</td>\n",
       "    </tr>\n",
       "    <tr>\n",
       "      <th>3</th>\n",
       "      <td>Apr-10</td>\n",
       "      <td>-728133</td>\n",
       "    </tr>\n",
       "    <tr>\n",
       "      <th>4</th>\n",
       "      <td>May-10</td>\n",
       "      <td>852993</td>\n",
       "    </tr>\n",
       "  </tbody>\n",
       "</table>\n",
       "</div>"
      ],
      "text/plain": [
       "     Date  Profit/Losses\n",
       "0  Jan-10        1088983\n",
       "1  Feb-10        -354534\n",
       "2  Mar-10         276622\n",
       "3  Apr-10        -728133\n",
       "4  May-10         852993"
      ]
     },
     "execution_count": 183,
     "metadata": {},
     "output_type": "execute_result"
    }
   ],
   "source": [
    "# File to Load\n",
    "\n",
    "# Read the modified Budget_Data csv into Pandas DataFrame\n",
    "pybank_df = pd.read_csv('Resources/budget_data.csv', index_col=False)\n",
    "pybank_df.head()"
   ]
  },
  {
   "cell_type": "markdown",
   "metadata": {},
   "source": [
    "# The total number of months included in the dataset"
   ]
  },
  {
   "cell_type": "code",
   "execution_count": 184,
   "metadata": {},
   "outputs": [
    {
     "name": "stdout",
     "output_type": "stream",
     "text": [
      "Total number of months: 86\n"
     ]
    }
   ],
   "source": [
    "num_months_df = len(pybank_df[\"Date\"].unique())\n",
    "print(f'Total number of months: {num_months_df}')"
   ]
  },
  {
   "cell_type": "markdown",
   "metadata": {},
   "source": [
    "# The net total amount of \"Profit/Losses\" over the entire period"
   ]
  },
  {
   "cell_type": "code",
   "execution_count": 185,
   "metadata": {},
   "outputs": [
    {
     "name": "stdout",
     "output_type": "stream",
     "text": [
      "Total amount of Profit/Losses: $22564198\n"
     ]
    }
   ],
   "source": [
    "total_profitloss_df =pybank_df[\"Profit/Losses\"].sum()\n",
    "print(f'Total amount of Profit/Losses: ${total_profitloss_df}')"
   ]
  },
  {
   "cell_type": "markdown",
   "metadata": {},
   "source": [
    "# The changes in \"Profit/Losses\" over the entire period, and then the average of those changes"
   ]
  },
  {
   "cell_type": "code",
   "execution_count": 186,
   "metadata": {},
   "outputs": [
    {
     "name": "stdout",
     "output_type": "stream",
     "text": [
      "Average of changes in Profit/Losses:$-8311.105882352942\n"
     ]
    }
   ],
   "source": [
    "#changes in profit/losses\n",
    "\n",
    "profloss_change_df = pybank_df['Profit/Losses'].diff()\n",
    "\n",
    "#Average of the changes\n",
    "\n",
    "avg_change_df=profloss_change_df.mean()\n",
    "print(f'Average of changes in Profit/Losses:${avg_change_df}')"
   ]
  },
  {
   "cell_type": "markdown",
   "metadata": {},
   "source": [
    "# The greatest increase in profits (date and amount) over the entire period"
   ]
  },
  {
   "cell_type": "code",
   "execution_count": 187,
   "metadata": {},
   "outputs": [
    {
     "data": {
      "text/plain": [
       "'Aug-16'"
      ]
     },
     "execution_count": 187,
     "metadata": {},
     "output_type": "execute_result"
    }
   ],
   "source": [
    "greatest_incprof_df= profloss_change_df.idxmax()\n",
    "\n",
    "greatest_inc_date_df=pybank_df.loc[greatest_incprof_df,'Date']\n",
    "greatest_inc_date_df"
   ]
  },
  {
   "cell_type": "code",
   "execution_count": 188,
   "metadata": {},
   "outputs": [
    {
     "name": "stdout",
     "output_type": "stream",
     "text": [
      "The Greatest increase in profits is:$1862002.0\n"
     ]
    }
   ],
   "source": [
    "greatest_inc_amount_df=profloss_change_df[greatest_incprof_df]\n",
    "print(f\"The Greatest increase in profits is:${greatest_inc_amount_df}\")"
   ]
  },
  {
   "cell_type": "markdown",
   "metadata": {},
   "source": [
    "# The greatest decrease in profits (date and amount) over the entire period"
   ]
  },
  {
   "cell_type": "code",
   "execution_count": 189,
   "metadata": {},
   "outputs": [
    {
     "data": {
      "text/plain": [
       "'Feb-14'"
      ]
     },
     "execution_count": 189,
     "metadata": {},
     "output_type": "execute_result"
    }
   ],
   "source": [
    "greatest_decprof_df= profloss_change_df.idxmin()\n",
    "\n",
    "greatest_dec_date_df=pybank_df.loc[greatest_decprof_df,'Date']\n",
    "greatest_dec_date_df"
   ]
  },
  {
   "cell_type": "code",
   "execution_count": 190,
   "metadata": {},
   "outputs": [
    {
     "name": "stdout",
     "output_type": "stream",
     "text": [
      "The greatest decrease in profits is:$ -1825558.0\n"
     ]
    }
   ],
   "source": [
    "greatest_dec_amount_df=profloss_change_df[greatest_decprof_df]\n",
    "print(f\"The greatest decrease in profits is:$ {greatest_dec_amount_df}\")"
   ]
  },
  {
   "cell_type": "code",
   "execution_count": 191,
   "metadata": {},
   "outputs": [
    {
     "data": {
      "text/html": [
       "<div>\n",
       "<style scoped>\n",
       "    .dataframe tbody tr th:only-of-type {\n",
       "        vertical-align: middle;\n",
       "    }\n",
       "\n",
       "    .dataframe tbody tr th {\n",
       "        vertical-align: top;\n",
       "    }\n",
       "\n",
       "    .dataframe thead th {\n",
       "        text-align: right;\n",
       "    }\n",
       "</style>\n",
       "<table border=\"1\" class=\"dataframe\">\n",
       "  <thead>\n",
       "    <tr style=\"text-align: right;\">\n",
       "      <th></th>\n",
       "      <th>Sum of Months</th>\n",
       "      <th>Net Total Profit/Losses</th>\n",
       "      <th>Average Change</th>\n",
       "      <th>Greatest increase in profits (Month)</th>\n",
       "      <th>Greatest increase in profits amount</th>\n",
       "      <th>Greatest decrease in profits (month)</th>\n",
       "      <th>Greatest decrease in profits amount</th>\n",
       "    </tr>\n",
       "  </thead>\n",
       "  <tbody>\n",
       "    <tr>\n",
       "      <th>0</th>\n",
       "      <td>86</td>\n",
       "      <td>22564198</td>\n",
       "      <td>-8311.105882</td>\n",
       "      <td>Aug-16</td>\n",
       "      <td>1862002.0</td>\n",
       "      <td>Feb-14</td>\n",
       "      <td>-1825558.0</td>\n",
       "    </tr>\n",
       "  </tbody>\n",
       "</table>\n",
       "</div>"
      ],
      "text/plain": [
       "   Sum of Months  Net Total Profit/Losses  Average Change  \\\n",
       "0             86                 22564198    -8311.105882   \n",
       "\n",
       "  Greatest increase in profits (Month)  Greatest increase in profits amount  \\\n",
       "0                               Aug-16                            1862002.0   \n",
       "\n",
       "  Greatest decrease in profits (month)  Greatest decrease in profits amount  \n",
       "0                               Feb-14                           -1825558.0  "
      ]
     },
     "execution_count": 191,
     "metadata": {},
     "output_type": "execute_result"
    }
   ],
   "source": [
    "summary_df = pd.DataFrame({\"Sum of Months\": [num_months_df],\n",
    "                         \"Net Total Profit/Losses\":[total_profitloss_df],\n",
    "                         \"Average Change\":[avg_change_df],\n",
    "                         \"Greatest increase in profits (Month)\":[greatest_inc_date_df],\n",
    "                         \"Greatest increase in profits amount\":[greatest_inc_amount_df],\n",
    "                         \"Greatest decrease in profits (month)\":[greatest_dec_date_df],\n",
    "                         \"Greatest decrease in profits amount\":[greatest_dec_amount_df]}).reset_index(drop=True)\n",
    "\n",
    "summary_df"
   ]
  },
  {
   "cell_type": "code",
   "execution_count": 192,
   "metadata": {},
   "outputs": [],
   "source": [
    "#Mapping the values - providing $ for the profits and losses\n",
    "\n",
    "summary_df[\"Net Total Profit/Losses\"] = summary_df[\"Net Total Profit/Losses\"].map(\"${:,.2f}\".format)\n",
    "summary_df[\"Average Change\"] = summary_df[\"Average Change\"].map(\"${:,.2f}\".format)\n",
    "summary_df[\"Greatest increase in profits amount\"] = summary_df[\"Greatest increase in profits amount\"].map(\"${:,.2f}\".format)\n",
    "summary_df[\"Greatest decrease in profits amount\"] = summary_df[\"Greatest decrease in profits amount\"].map(\"${:,.2f}\".format)\n",
    "\n"
   ]
  },
  {
   "cell_type": "code",
   "execution_count": 193,
   "metadata": {},
   "outputs": [
    {
     "data": {
      "text/html": [
       "<div>\n",
       "<style scoped>\n",
       "    .dataframe tbody tr th:only-of-type {\n",
       "        vertical-align: middle;\n",
       "    }\n",
       "\n",
       "    .dataframe tbody tr th {\n",
       "        vertical-align: top;\n",
       "    }\n",
       "\n",
       "    .dataframe thead th {\n",
       "        text-align: right;\n",
       "    }\n",
       "</style>\n",
       "<table border=\"1\" class=\"dataframe\">\n",
       "  <thead>\n",
       "    <tr style=\"text-align: right;\">\n",
       "      <th></th>\n",
       "      <th>Sum of Months</th>\n",
       "      <th>Net Total Profit/Losses</th>\n",
       "      <th>Average Change</th>\n",
       "      <th>Greatest increase in profits (Month)</th>\n",
       "      <th>Greatest increase in profits amount</th>\n",
       "      <th>Greatest decrease in profits (month)</th>\n",
       "      <th>Greatest decrease in profits amount</th>\n",
       "    </tr>\n",
       "  </thead>\n",
       "  <tbody>\n",
       "    <tr>\n",
       "      <th>0</th>\n",
       "      <td>86</td>\n",
       "      <td>$22,564,198.00</td>\n",
       "      <td>$-8,311.11</td>\n",
       "      <td>Aug-16</td>\n",
       "      <td>$1,862,002.00</td>\n",
       "      <td>Feb-14</td>\n",
       "      <td>$-1,825,558.00</td>\n",
       "    </tr>\n",
       "  </tbody>\n",
       "</table>\n",
       "</div>"
      ],
      "text/plain": [
       "   Sum of Months Net Total Profit/Losses Average Change  \\\n",
       "0             86          $22,564,198.00     $-8,311.11   \n",
       "\n",
       "  Greatest increase in profits (Month) Greatest increase in profits amount  \\\n",
       "0                               Aug-16                       $1,862,002.00   \n",
       "\n",
       "  Greatest decrease in profits (month) Greatest decrease in profits amount  \n",
       "0                               Feb-14                      $-1,825,558.00  "
      ]
     },
     "metadata": {},
     "output_type": "display_data"
    }
   ],
   "source": [
    "summary_df.reset_index(drop=True)\n",
    "display(summary_df)"
   ]
  },
  {
   "cell_type": "markdown",
   "metadata": {},
   "source": [
    "# Print the analysis to the terminal and export a text file with the results"
   ]
  },
  {
   "cell_type": "code",
   "execution_count": 194,
   "metadata": {},
   "outputs": [
    {
     "name": "stdout",
     "output_type": "stream",
     "text": [
      "Total Months: 86\n",
      "Average change: $-8311.105882352942\n",
      "Greatest Increase in Profits Date: Aug-16\n",
      "Greatest Increase in Profits Amount: $1862002.0\n",
      "Greatest Decrease in Profits Date: Feb-14\n",
      "Greatest Decrease in Profits Amount: $-1825558.0\n"
     ]
    }
   ],
   "source": [
    "#full assignment in one code\n",
    "\n",
    "analysis_pybank= f'Total Months: {num_months_df}\\nAverage change: ${avg_change_df}\\nGreatest Increase in Profits Date: {greatest_inc_date_df}\\nGreatest Increase in Profits Amount: ${greatest_inc_amount_df}\\nGreatest Decrease in Profits Date: {greatest_dec_date_df}\\nGreatest Decrease in Profits Amount: ${greatest_dec_amount_df}'\n",
    "\n",
    "\n",
    "print (analysis)\n"
   ]
  },
  {
   "cell_type": "code",
   "execution_count": 195,
   "metadata": {},
   "outputs": [],
   "source": [
    "with open('analysis.txt','w') as file:\n",
    "    file.write(analysis_pybank)"
   ]
  }
 ],
 "metadata": {
  "kernelspec": {
   "display_name": "Python 3",
   "language": "python",
   "name": "python3"
  },
  "language_info": {
   "codemirror_mode": {
    "name": "ipython",
    "version": 3
   },
   "file_extension": ".py",
   "mimetype": "text/x-python",
   "name": "python",
   "nbconvert_exporter": "python",
   "pygments_lexer": "ipython3",
   "version": "3.7.3"
  }
 },
 "nbformat": 4,
 "nbformat_minor": 2
}
